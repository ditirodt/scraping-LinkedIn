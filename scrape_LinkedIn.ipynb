{
 "cells": [
  {
   "cell_type": "code",
   "execution_count": 3,
   "id": "4594f3dc",
   "metadata": {},
   "outputs": [],
   "source": [
    "# Required Imports\n",
    "from selenium import webdriver\n",
    "from bs4 import BeautifulSoup as bs\n",
    "import time\n",
    "import pandas as pd\n",
    "import re as re"
   ]
  },
  {
   "cell_type": "code",
   "execution_count": 4,
   "id": "48b9d5f0",
   "metadata": {},
   "outputs": [
    {
     "name": "stdout",
     "output_type": "stream",
     "text": [
      "Please enter the exact LinkedIn username you use to login (email/phone?):\n",
      "ditirorampate@gmail.com\n",
      "\n",
      "Please enter the exact LinkedIn password:\n",
      "fatsula95\n",
      "\n",
      "Please enter your usernmae exactly how it appears in your profile link (after '/in') :\n",
      "ditiro-rampate-46a999a4\n",
      "\n",
      "Please enter the number of the last posts you want to analyse:\n",
      "5\n"
     ]
    }
   ],
   "source": [
    "#request user input for LinkedIn username and password:\n",
    "print(\"Please enter the exact LinkedIn username you use to login (email/phone?):\")\n",
    "username_string = str(input()) \n",
    "print()\n",
    "print(\"Please enter the exact LinkedIn password:\")\n",
    "password_string = str(input())\n",
    "print()\n",
    "print(\"Please enter your usernmae exactly how it appears in your profile link (after '/in') :\")\n",
    "link_username = str(input())\n",
    "print()\n",
    "print(\"Please enter the number of the last posts you want to analyse:\")\n",
    "number_of_posts = int(input())"
   ]
  },
  {
   "cell_type": "code",
   "execution_count": 5,
   "id": "799336c8",
   "metadata": {},
   "outputs": [
    {
     "name": "stdout",
     "output_type": "stream",
     "text": [
      "ditirorampate@gmail.com\n"
     ]
    }
   ],
   "source": [
    "#create a browser-specific (Google Chrome) web navigation simulator:\n",
    "browser = webdriver.Chrome(\"C:/Users/Ditiro/Downloads/chromedriver.exe\")\n",
    "\n",
    "#open the LinkedIn login page and login under a specified account:\n",
    "browser.get('https://www.linkedin.com/login')\n",
    "#enter the specified information to login to LinkedIn:\n",
    "elementID = browser.find_element_by_id('username')\n",
    "elementID.send_keys(username_string)\n",
    "elementID = browser.find_element_by_id('password')\n",
    "elementID.send_keys(password_string)\n",
    "elementID.submit()\n",
    "print(username_string)"
   ]
  },
  {
   "cell_type": "code",
   "execution_count": 6,
   "id": "55b4fc3a",
   "metadata": {},
   "outputs": [],
   "source": [
    "#open the recent post activity page of the LinkedIn user you specified:\n",
    "recent_activity_link = \"https://www.linkedin.com/in/\" + link_username + \"/detail/recent-activity/shares/\"\n",
    "link_username\n",
    "browser.get(recent_activity_link)"
   ]
  },
  {
   "cell_type": "code",
   "execution_count": 7,
   "id": "2af1f270",
   "metadata": {},
   "outputs": [
    {
     "name": "stdout",
     "output_type": "stream",
     "text": [
      "[6, 18, 29, 2, 15, 1]\n",
      "[]\n",
      "[308, 76, 79, 432, 958, 85, 62, 71, 300, 47]\n"
     ]
    }
   ],
   "source": [
    "\n",
    "#calculate number of scrolls depending on the input\n",
    "number_of_scrolls = -(-number_of_posts // 5)  # 5 is LinkedIn's number of posts per scroll\n",
    "\n",
    "#we need a loop because we have a particular number of scrolls...\n",
    "likes = []\n",
    "comments = []\n",
    "views = []\n",
    "\n",
    "SCROLL_PAUSE_TIME = 5\n",
    "\n",
    "# Get scroll height\n",
    "last_height = browser.execute_script(\"return document.body.scrollHeight\")\n",
    "\n",
    "for scroll in range(number_of_scrolls) : \n",
    "    # Scroll down to bottom\n",
    "    browser.execute_script(\"window.scrollTo(0, document.body.scrollHeight);\")\n",
    "    # Wait to load page\n",
    "    time.sleep(SCROLL_PAUSE_TIME)\n",
    "    # Calculate new scroll height and compare with last scroll height\n",
    "    new_height = browser.execute_script(\"return document.body.scrollHeight\")\n",
    "    if new_height == last_height:\n",
    "        break\n",
    "    last_height = new_height    \n",
    "\n",
    "#query the contents (returns service reponse object with web contents, url headers, status and other):\n",
    "src = browser.page_source\n",
    "#beautiful soup instance:\n",
    "soup = bs(src, features=\"lxml\")   #lxml\n",
    "    \n",
    "#find LIKES on LinkedIn\n",
    "#look for \"span\" tags that have the specific following attribute (click 'inspect' on the L-in page)\n",
    "#need to convert the list of bs4 tags into strings and then extract \n",
    "#find these specific tags (\"<stuff>\") in the soup contents:\n",
    "\n",
    "likes_bs4tags = soup.find_all(\"span\", attrs = {\"class\" : \"v-align-middle social-details-social-counts__reactions-count\"})\n",
    "#converts a list of 1 string to int, appends to likes list\n",
    "for tag in likes_bs4tags:\n",
    "    strtag = str(tag)\n",
    "    #the first argument in findall (below) is a regular expression (accounts for commas in the number)\n",
    "    list_of_matches = re.findall('[,0-9]+',strtag)\n",
    "    #converts the last element (string) in the list to int, appends to likes list\n",
    "    last_string = list_of_matches.pop()\n",
    "    without_comma = last_string.replace(',','')\n",
    "    likes_int = int(without_comma)\n",
    "    likes.append(likes_int)\n",
    "        \n",
    "#find COMMENTS on LinkedIn\n",
    "#same concept here\n",
    "comments_bs4tags = soup.find_all(\"li\", attrs = {\"class\" : \"social-details-social-counts__item social-details-social-counts__comments\"})\n",
    "for tag in comments_bs4tags:\n",
    "    strtag = str(tag)\n",
    "    list_of_matches = re.findall('[,0-9]+',strtag)\n",
    "    last_string = list_of_matches.pop()\n",
    "    without_comma = last_string.replace(',','')\n",
    "    comments_int = int(without_comma)\n",
    "    comments.append(comments_int)\n",
    "        \n",
    "#find VIEWS on LinkedIn\n",
    "#same concept here\n",
    "views_bs4tags = soup.find_all(\"span\", attrs = {\"class\" : \"icon-and-text-container t-14 t-black--light t-normal\"})\n",
    "for tag in views_bs4tags:\n",
    "    strtag = str(tag)\n",
    "    list_of_matches = re.findall('[,0-9]+',strtag)\n",
    "    last_string = list_of_matches.pop()\n",
    "    without_comma = last_string.replace(',','')\n",
    "    views_int = int(without_comma)\n",
    "    views.append(views_int)  \n",
    "\n",
    "print(likes) \n",
    "print(comments)\n",
    "print(views)"
   ]
  },
  {
   "cell_type": "code",
   "execution_count": 8,
   "id": "327f42ab",
   "metadata": {},
   "outputs": [],
   "source": [
    "import matplotlib.pyplot as plt\n",
    "import pandas as pd\n",
    "import numpy as np\n",
    "\n"
   ]
  },
  {
   "cell_type": "code",
   "execution_count": 9,
   "id": "4c5d3386",
   "metadata": {},
   "outputs": [],
   "source": [
    "# Reverse the lists\n",
    "likes.reverse()\n",
    "comments.reverse()\n",
    "views.reverse()\n",
    "\n",
    "# Convert lists into pandas DataFrames\n",
    "likes_df = pd.DataFrame(likes, columns = ['Likes'])\n",
    "comments_df = pd.DataFrame(comments, columns =['Comments'])\n",
    "views_df = pd.DataFrame(views, columns =['Views'])\n"
   ]
  },
  {
   "cell_type": "code",
   "execution_count": 10,
   "id": "a85173d5",
   "metadata": {},
   "outputs": [
    {
     "data": {
      "text/html": [
       "<div>\n",
       "<style scoped>\n",
       "    .dataframe tbody tr th:only-of-type {\n",
       "        vertical-align: middle;\n",
       "    }\n",
       "\n",
       "    .dataframe tbody tr th {\n",
       "        vertical-align: top;\n",
       "    }\n",
       "\n",
       "    .dataframe thead th {\n",
       "        text-align: right;\n",
       "    }\n",
       "</style>\n",
       "<table border=\"1\" class=\"dataframe\">\n",
       "  <thead>\n",
       "    <tr style=\"text-align: right;\">\n",
       "      <th></th>\n",
       "      <th>Likes</th>\n",
       "    </tr>\n",
       "  </thead>\n",
       "  <tbody>\n",
       "    <tr>\n",
       "      <th>0</th>\n",
       "      <td>1</td>\n",
       "    </tr>\n",
       "    <tr>\n",
       "      <th>1</th>\n",
       "      <td>15</td>\n",
       "    </tr>\n",
       "    <tr>\n",
       "      <th>2</th>\n",
       "      <td>2</td>\n",
       "    </tr>\n",
       "    <tr>\n",
       "      <th>3</th>\n",
       "      <td>29</td>\n",
       "    </tr>\n",
       "    <tr>\n",
       "      <th>4</th>\n",
       "      <td>18</td>\n",
       "    </tr>\n",
       "    <tr>\n",
       "      <th>5</th>\n",
       "      <td>6</td>\n",
       "    </tr>\n",
       "  </tbody>\n",
       "</table>\n",
       "</div>"
      ],
      "text/plain": [
       "   Likes\n",
       "0      1\n",
       "1     15\n",
       "2      2\n",
       "3     29\n",
       "4     18\n",
       "5      6"
      ]
     },
     "execution_count": 10,
     "metadata": {},
     "output_type": "execute_result"
    }
   ],
   "source": [
    "likes_df"
   ]
  },
  {
   "cell_type": "code",
   "execution_count": 11,
   "id": "841a9cd6",
   "metadata": {},
   "outputs": [
    {
     "data": {
      "text/html": [
       "<div>\n",
       "<style scoped>\n",
       "    .dataframe tbody tr th:only-of-type {\n",
       "        vertical-align: middle;\n",
       "    }\n",
       "\n",
       "    .dataframe tbody tr th {\n",
       "        vertical-align: top;\n",
       "    }\n",
       "\n",
       "    .dataframe thead th {\n",
       "        text-align: right;\n",
       "    }\n",
       "</style>\n",
       "<table border=\"1\" class=\"dataframe\">\n",
       "  <thead>\n",
       "    <tr style=\"text-align: right;\">\n",
       "      <th></th>\n",
       "      <th>Views</th>\n",
       "    </tr>\n",
       "  </thead>\n",
       "  <tbody>\n",
       "    <tr>\n",
       "      <th>0</th>\n",
       "      <td>47</td>\n",
       "    </tr>\n",
       "    <tr>\n",
       "      <th>1</th>\n",
       "      <td>300</td>\n",
       "    </tr>\n",
       "    <tr>\n",
       "      <th>2</th>\n",
       "      <td>71</td>\n",
       "    </tr>\n",
       "    <tr>\n",
       "      <th>3</th>\n",
       "      <td>62</td>\n",
       "    </tr>\n",
       "    <tr>\n",
       "      <th>4</th>\n",
       "      <td>85</td>\n",
       "    </tr>\n",
       "    <tr>\n",
       "      <th>5</th>\n",
       "      <td>958</td>\n",
       "    </tr>\n",
       "    <tr>\n",
       "      <th>6</th>\n",
       "      <td>432</td>\n",
       "    </tr>\n",
       "    <tr>\n",
       "      <th>7</th>\n",
       "      <td>79</td>\n",
       "    </tr>\n",
       "    <tr>\n",
       "      <th>8</th>\n",
       "      <td>76</td>\n",
       "    </tr>\n",
       "    <tr>\n",
       "      <th>9</th>\n",
       "      <td>308</td>\n",
       "    </tr>\n",
       "  </tbody>\n",
       "</table>\n",
       "</div>"
      ],
      "text/plain": [
       "   Views\n",
       "0     47\n",
       "1    300\n",
       "2     71\n",
       "3     62\n",
       "4     85\n",
       "5    958\n",
       "6    432\n",
       "7     79\n",
       "8     76\n",
       "9    308"
      ]
     },
     "execution_count": 11,
     "metadata": {},
     "output_type": "execute_result"
    }
   ],
   "source": [
    "views_df"
   ]
  },
  {
   "cell_type": "code",
   "execution_count": 13,
   "id": "3bfd6ba7",
   "metadata": {},
   "outputs": [
    {
     "data": {
      "image/png": "[encoded data removed]",
      "text/plain": [
       "<Figure size 432x288 with 1 Axes>"
      ]
     },
     "metadata": {
      "needs_background": "light"
     },
     "output_type": "display_data"
    },
    {
     "data": {
      "text/plain": [
       "<Figure size 432x288 with 0 Axes>"
      ]
     },
     "metadata": {},
     "output_type": "display_data"
    }
   ],
   "source": [
    "\n",
    "plt.title('Linkedin Post Likes for ' + link_username)\n",
    "plt.xlabel('Posts')\n",
    "plt.ylabel('Likes')\n",
    "plt.savefig(link_username + '-linkedin-likes-last-' + str(number_of_posts) + '-posts-GRAPH.png', dpi=600)\n",
    "plt.show()\n",
    "plt.clf()"
   ]
  },
  {
   "cell_type": "code",
   "execution_count": 14,
   "id": "8ed82e7c",
   "metadata": {},
   "outputs": [
    {
     "data": {
      "image/png": "[encoded data removed]",
      "text/plain": [
       "<Figure size 432x288 with 1 Axes>"
      ]
     },
     "metadata": {
      "needs_background": "light"
     },
     "output_type": "display_data"
    },
    {
     "data": {
      "text/plain": [
       "<Figure size 432x288 with 0 Axes>"
      ]
     },
     "metadata": {},
     "output_type": "display_data"
    }
   ],
   "source": [
    "plt.title('LinkedIn Post Views for ' + link_username)\n",
    "plt.xlabel('Posts')\n",
    "plt.ylabel('Views')\n",
    "plt.savefig(link_username + '-linkedin-views-last-' + str(number_of_posts) + '-posts-GRAPH.png', dpi=600)\n",
    "plt.show()\n",
    "plt.clf()"
   ]
  },
  {
   "cell_type": "code",
   "execution_count": 15,
   "id": "9a15ddca",
   "metadata": {},
   "outputs": [
    {
     "data": {
      "image/png": "[encoded data removed]",
      "text/plain": [
       "<Figure size 432x288 with 1 Axes>"
      ]
     },
     "metadata": {
      "needs_background": "light"
     },
     "output_type": "display_data"
    },
    {
     "data": {
      "text/plain": [
       "<Figure size 432x288 with 0 Axes>"
      ]
     },
     "metadata": {},
     "output_type": "display_data"
    }
   ],
   "source": [
    "plt.title('Linkedin Post Likes for ' + link_username)\n",
    "plt.xlabel('Posts')\n",
    "plt.ylabel('Likes')\n",
    "plt.savefig(link_username + '-linkedin-likes-last-' + str(number_of_posts) + '-posts-GRAPH.png', dpi=600)\n",
    "plt.show()\n",
    "plt.clf()"
   ]
  },
  {
   "cell_type": "code",
   "execution_count": null,
   "id": "bbdcd93a",
   "metadata": {},
   "outputs": [],
   "source": []
  },
  {
   "cell_type": "code",
   "execution_count": null,
   "id": "c5ac530a",
   "metadata": {},
   "outputs": [],
   "source": []
  },
  {
   "cell_type": "code",
   "execution_count": null,
   "id": "37807cbd",
   "metadata": {},
   "outputs": [],
   "source": []
  },
  {
   "cell_type": "code",
   "execution_count": null,
   "id": "53ca9800",
   "metadata": {},
   "outputs": [],
   "source": []
  }
 ],
 "metadata": {
  "kernelspec": {
   "display_name": "Python 3",
   "language": "python",
   "name": "python3"
  },
  "language_info": {
   "codemirror_mode": {
    "name": "ipython",
    "version": 3
   },
   "file_extension": ".py",
   "mimetype": "text/x-python",
   "name": "python",
   "nbconvert_exporter": "python",
   "pygments_lexer": "ipython3",
   "version": "3.8.8"
  }
 },
 "nbformat": 4,
 "nbformat_minor": 5
}
